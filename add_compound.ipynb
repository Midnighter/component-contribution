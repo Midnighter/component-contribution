{
 "cells": [
  {
   "cell_type": "code",
   "execution_count": 2,
   "metadata": {},
   "outputs": [
    {
     "ename": "ImportError",
     "evalue": "cannot import name 'KEGG_ADDITIONS_TSV_FNAME'",
     "output_type": "error",
     "traceback": [
      "\u001b[0;31m---------------------------------------------------------------------------\u001b[0m",
      "\u001b[0;31mImportError\u001b[0m                               Traceback (most recent call last)",
      "\u001b[0;32m<ipython-input-2-e0c11b6949d9>\u001b[0m in \u001b[0;36m<module>\u001b[0;34m()\u001b[0m\n\u001b[1;32m      3\u001b[0m \u001b[0;32mfrom\u001b[0m \u001b[0mIPython\u001b[0m\u001b[0;34m.\u001b[0m\u001b[0mdisplay\u001b[0m \u001b[0;32mimport\u001b[0m \u001b[0mclear_output\u001b[0m\u001b[0;34m\u001b[0m\u001b[0;34m\u001b[0m\u001b[0m\n\u001b[1;32m      4\u001b[0m \u001b[0;32mimport\u001b[0m \u001b[0mpandas\u001b[0m \u001b[0;32mas\u001b[0m \u001b[0mpd\u001b[0m\u001b[0;34m\u001b[0m\u001b[0;34m\u001b[0m\u001b[0m\n\u001b[0;32m----> 5\u001b[0;31m \u001b[0;32mfrom\u001b[0m \u001b[0mcomponent_contribution\u001b[0m\u001b[0;34m.\u001b[0m\u001b[0mcompound_cache\u001b[0m \u001b[0;32mimport\u001b[0m \u001b[0mCompoundCache\u001b[0m\u001b[0;34m,\u001b[0m \u001b[0mKEGG_ADDITIONS_TSV_FNAME\u001b[0m\u001b[0;34m\u001b[0m\u001b[0;34m\u001b[0m\u001b[0m\n\u001b[0m\u001b[1;32m      6\u001b[0m \u001b[0;34m\u001b[0m\u001b[0m\n\u001b[1;32m      7\u001b[0m \u001b[0mCompoundCacher\u001b[0m\u001b[0;34m.\u001b[0m\u001b[0mRebuildCompoundJSON\u001b[0m\u001b[0;34m(\u001b[0m\u001b[0;34m)\u001b[0m\u001b[0;34m\u001b[0m\u001b[0;34m\u001b[0m\u001b[0m\n",
      "\u001b[0;31mImportError\u001b[0m: cannot import name 'KEGG_ADDITIONS_TSV_FNAME'"
     ]
    }
   ],
   "source": [
    "import openbabel\n",
    "import ipywidgets\n",
    "from IPython.display import clear_output\n",
    "import pandas as pd\n",
    "from component_contribution.compound_cache import CompoundCache, KEGG_ADDITIONS_TSV_FNAME\n",
    "\n",
    "CompoundCacher.RebuildCompoundJSON()\n",
    "ccache = CompoundCacher()\n",
    "\n",
    "additions_df = pd.read_csv(KEGG_ADDITIONS_TSV_FNAME, delimiter='\\t', index_col=1)\n",
    "additions_df.index = additions_df.index.map(lambda c: 'C%05d' % int(c))"
   ]
  },
  {
   "cell_type": "code",
   "execution_count": 3,
   "metadata": {},
   "outputs": [
    {
     "name": "stdout",
     "output_type": "stream",
     "text": [
      "\n",
      "\n",
      "Enter the ID of the compound you wish to recache (e.g. C99999):\n"
     ]
    },
    {
     "data": {
      "application/vnd.jupyter.widget-view+json": {
       "model_id": "e12ea5a0030e47f3947c3c6063789e1c",
       "version_major": 2,
       "version_minor": 0
      },
      "text/html": [
       "<p>Failed to display Jupyter Widget of type <code>Text</code>.</p>\n",
       "<p>\n",
       "  If you're reading this message in the Jupyter Notebook or JupyterLab Notebook, it may mean\n",
       "  that the widgets JavaScript is still loading. If this message persists, it\n",
       "  likely means that the widgets JavaScript library is either not installed or\n",
       "  not enabled. See the <a href=\"https://ipywidgets.readthedocs.io/en/stable/user_install.html\">Jupyter\n",
       "  Widgets Documentation</a> for setup instructions.\n",
       "</p>\n",
       "<p>\n",
       "  If you're reading this message in another frontend (for example, a static\n",
       "  rendering on GitHub or <a href=\"https://nbviewer.jupyter.org/\">NBViewer</a>),\n",
       "  it may mean that your frontend doesn't currently support widgets.\n",
       "</p>\n"
      ],
      "text/plain": [
       "Text(value='')"
      ]
     },
     "metadata": {},
     "output_type": "display_data"
    }
   ],
   "source": [
    "print('Enter the ID of the compound you wish to recache:')\n",
    "w = ipywidgets.widgets.Text('')\n",
    "#display(w)\n",
    "\n",
    "def handle_submit(sender):\n",
    "    clear_output()\n",
    "    compound_id = w.value\n",
    "    if compound_id != '':\n",
    "        print('Trying to recache: %s' % compound_id)\n",
    "        if compound_id not in additions_df.index:\n",
    "            print('You must first add the new compound to %s, then run this script again.' % KEGG_ADDITIONS_TSV_FNAME)\n",
    "        else:\n",
    "            print('Removing %s from cache ...' % additions_df.at[compound_id, 'name'])\n",
    "            ccache.remove(compound_id)\n",
    "            print('Recalculating SMILES and pKa values ...')\n",
    "            comp = ccache.get_compound(compound_id)\n",
    "            print('pKa values: ' + str(comp.to_json_dict()['pKas']))\n",
    "            print('Writing new data to cache ...')\n",
    "            ccache.dump()\n",
    "    print('\\n\\nEnter the ID of the compound you wish to recache (e.g. C99999):')\n",
    "    display(w)\n",
    "    \n",
    "w.on_submit(handle_submit)\n",
    "#button = widgets.Button(description=\"Recache\")\n",
    "#print('Then press the button when ready')\n",
    "#display(button)\n",
    "handle_submit(w)"
   ]
  }
 ],
 "metadata": {
  "kernelspec": {
   "display_name": "Python 3",
   "language": "python",
   "name": "python3"
  },
  "language_info": {
   "codemirror_mode": {
    "name": "ipython",
    "version": 3
   },
   "file_extension": ".py",
   "mimetype": "text/x-python",
   "name": "python",
   "nbconvert_exporter": "python",
   "pygments_lexer": "ipython3",
   "version": "3.6.7"
  },
  "widgets": {
   "application/vnd.jupyter.widget-state+json": {
    "state": {
     "0271faf3178a4efa998eab340e5714f0": {
      "model_module": "@jupyter-widgets/controls",
      "model_module_version": "1.1.0",
      "model_name": "TextModel",
      "state": {
       "layout": "IPY_MODEL_7074934051464360904b265366027690",
       "style": "IPY_MODEL_0caea91dde2f444fa20ca07643f39af7",
       "value": "C00001"
      }
     },
     "05a3c793819b4015bfdfd3e5d06467fe": {
      "model_module": "@jupyter-widgets/controls",
      "model_module_version": "1.1.0",
      "model_name": "DescriptionStyleModel",
      "state": {
       "description_width": ""
      }
     },
     "070fdc1a12aa4392b9c70510f13102f7": {
      "model_module": "@jupyter-widgets/controls",
      "model_module_version": "1.1.0",
      "model_name": "DescriptionStyleModel",
      "state": {
       "description_width": ""
      }
     },
     "08c05eb4603e40efa24c558deb3c1d97": {
      "model_module": "@jupyter-widgets/controls",
      "model_module_version": "1.1.0",
      "model_name": "DescriptionStyleModel",
      "state": {
       "description_width": ""
      }
     },
     "0caea91dde2f444fa20ca07643f39af7": {
      "model_module": "@jupyter-widgets/controls",
      "model_module_version": "1.1.0",
      "model_name": "DescriptionStyleModel",
      "state": {
       "description_width": ""
      }
     },
     "0fc87d89c2a54170a2a1b66f7b4ab798": {
      "model_module": "@jupyter-widgets/controls",
      "model_module_version": "1.1.0",
      "model_name": "TextModel",
      "state": {
       "layout": "IPY_MODEL_c6f8403bc2654b10bdbf940f0de3c556",
       "style": "IPY_MODEL_daa3d915275b4d77a030420c47e5317b",
       "value": "C00225"
      }
     },
     "1151d0f152344fa29b07968332cdfdbe": {
      "model_module": "@jupyter-widgets/controls",
      "model_module_version": "1.1.0",
      "model_name": "DescriptionStyleModel",
      "state": {
       "description_width": ""
      }
     },
     "116260918451470080690271291db8e8": {
      "model_module": "@jupyter-widgets/controls",
      "model_module_version": "1.1.0",
      "model_name": "TextModel",
      "state": {
       "layout": "IPY_MODEL_164f601e361948818d3f451156a4b637",
       "style": "IPY_MODEL_e8c44cdd42594261904002c0f10037c5"
      }
     },
     "164f601e361948818d3f451156a4b637": {
      "model_module": "@jupyter-widgets/base",
      "model_module_version": "1.0.0",
      "model_name": "LayoutModel",
      "state": {}
     },
     "17acac4e8d0740ac89fafecda17605b4": {
      "model_module": "@jupyter-widgets/base",
      "model_module_version": "1.0.0",
      "model_name": "LayoutModel",
      "state": {}
     },
     "17c98b1b9b504a61820307697ec96373": {
      "model_module": "@jupyter-widgets/controls",
      "model_module_version": "1.1.0",
      "model_name": "TextModel",
      "state": {
       "layout": "IPY_MODEL_d932eae50d484082853ee348afb6b3e6",
       "style": "IPY_MODEL_56660289a8114f39ae266967bf07d626",
       "value": "C00225"
      }
     },
     "1c51a60d1e474866ba636152f5c922e9": {
      "model_module": "@jupyter-widgets/controls",
      "model_module_version": "1.1.0",
      "model_name": "DescriptionStyleModel",
      "state": {
       "description_width": ""
      }
     },
     "2320240484c8465ca9bf54f077cc7f8a": {
      "model_module": "@jupyter-widgets/controls",
      "model_module_version": "1.1.0",
      "model_name": "TextModel",
      "state": {
       "layout": "IPY_MODEL_a2cfc91b0bd547819ee0cc05e480a1e7",
       "style": "IPY_MODEL_d83e08ce27d544a9a1c05a8159b255e7"
      }
     },
     "2c9d2b51271c4c9da4d7ef214c3a9299": {
      "model_module": "@jupyter-widgets/controls",
      "model_module_version": "1.1.0",
      "model_name": "DescriptionStyleModel",
      "state": {
       "description_width": ""
      }
     },
     "2d7c509634f1443eb090cc6d16452b16": {
      "model_module": "@jupyter-widgets/base",
      "model_module_version": "1.0.0",
      "model_name": "LayoutModel",
      "state": {}
     },
     "38f34f321aca4019a245e4b98a3bec60": {
      "model_module": "@jupyter-widgets/controls",
      "model_module_version": "1.1.0",
      "model_name": "TextModel",
      "state": {
       "layout": "IPY_MODEL_7687877b9d114daf914e53d75f5fcc3e",
       "style": "IPY_MODEL_08c05eb4603e40efa24c558deb3c1d97"
      }
     },
     "391e74b96b32408ba9516293a3ed6d7f": {
      "model_module": "@jupyter-widgets/controls",
      "model_module_version": "1.1.0",
      "model_name": "DescriptionStyleModel",
      "state": {
       "description_width": ""
      }
     },
     "3ba82516849d4acfad9e4642f10f4b7b": {
      "model_module": "@jupyter-widgets/base",
      "model_module_version": "1.0.0",
      "model_name": "LayoutModel",
      "state": {}
     },
     "3be4d5a4405440d99689fa82ddf7fda1": {
      "model_module": "@jupyter-widgets/controls",
      "model_module_version": "1.1.0",
      "model_name": "DescriptionStyleModel",
      "state": {
       "description_width": ""
      }
     },
     "3d7f6690fe834fe8a53bd27834cb10f8": {
      "model_module": "@jupyter-widgets/base",
      "model_module_version": "1.0.0",
      "model_name": "LayoutModel",
      "state": {}
     },
     "42637e17ff804c7892eae07d3f0a8b7f": {
      "model_module": "@jupyter-widgets/controls",
      "model_module_version": "1.1.0",
      "model_name": "DescriptionStyleModel",
      "state": {
       "description_width": ""
      }
     },
     "43672b89a923463c8d5a43e9b51d9751": {
      "model_module": "@jupyter-widgets/base",
      "model_module_version": "1.0.0",
      "model_name": "LayoutModel",
      "state": {}
     },
     "46d37366fe19484c87665961f3dd377f": {
      "model_module": "@jupyter-widgets/base",
      "model_module_version": "1.0.0",
      "model_name": "LayoutModel",
      "state": {}
     },
     "47095e0b8ac84ac6b762ed3e35947914": {
      "model_module": "@jupyter-widgets/controls",
      "model_module_version": "1.1.0",
      "model_name": "DescriptionStyleModel",
      "state": {
       "description_width": ""
      }
     },
     "476a38534eb649b59a865a69da0d5175": {
      "model_module": "@jupyter-widgets/base",
      "model_module_version": "1.0.0",
      "model_name": "LayoutModel",
      "state": {}
     },
     "4b2d90bf491d4c0aae047b75e5115509": {
      "model_module": "@jupyter-widgets/controls",
      "model_module_version": "1.1.0",
      "model_name": "TextModel",
      "state": {
       "layout": "IPY_MODEL_76af0303aa03432691f23f74f03b82e4",
       "style": "IPY_MODEL_f823c758933a488398527bc86a0ef159"
      }
     },
     "4c9f8a9a8fcb4192abc572081662c83d": {
      "model_module": "@jupyter-widgets/controls",
      "model_module_version": "1.1.0",
      "model_name": "TextModel",
      "state": {
       "layout": "IPY_MODEL_43672b89a923463c8d5a43e9b51d9751",
       "style": "IPY_MODEL_7a63babfce484e5ba760fa36de75d6f9",
       "value": "C00281"
      }
     },
     "4dfbd96f90204886acf5062e415c261e": {
      "model_module": "@jupyter-widgets/controls",
      "model_module_version": "1.1.0",
      "model_name": "TextModel",
      "state": {
       "layout": "IPY_MODEL_f3d5703f64b94b48b0883c22ca456242",
       "style": "IPY_MODEL_391e74b96b32408ba9516293a3ed6d7f"
      }
     },
     "4fdb92615ca9424eb65be5007e419b13": {
      "model_module": "@jupyter-widgets/base",
      "model_module_version": "1.0.0",
      "model_name": "LayoutModel",
      "state": {}
     },
     "50f194e871474391ba8bc08c8ac6e3a8": {
      "model_module": "@jupyter-widgets/controls",
      "model_module_version": "1.1.0",
      "model_name": "DescriptionStyleModel",
      "state": {
       "description_width": ""
      }
     },
     "53633fb7c66d4842a3a555fa721e7d0a": {
      "model_module": "@jupyter-widgets/controls",
      "model_module_version": "1.1.0",
      "model_name": "TextModel",
      "state": {
       "disabled": true,
       "layout": "IPY_MODEL_c161fb4706da41588822ae09d165698a",
       "style": "IPY_MODEL_8f7dcadc2d05409380c21b39ebeee7bd",
       "value": "Hello World!"
      }
     },
     "55c9a1f412c94c98b0e97aa3f07f7cb1": {
      "model_module": "@jupyter-widgets/controls",
      "model_module_version": "1.1.0",
      "model_name": "DescriptionStyleModel",
      "state": {
       "description_width": ""
      }
     },
     "56439bb3e195490d811748af4a27c5cd": {
      "model_module": "@jupyter-widgets/controls",
      "model_module_version": "1.1.0",
      "model_name": "TextModel",
      "state": {
       "layout": "IPY_MODEL_46d37366fe19484c87665961f3dd377f",
       "style": "IPY_MODEL_75927bdb5a7543d6965dad2a779776a8",
       "value": "C00225"
      }
     },
     "56660289a8114f39ae266967bf07d626": {
      "model_module": "@jupyter-widgets/controls",
      "model_module_version": "1.1.0",
      "model_name": "DescriptionStyleModel",
      "state": {
       "description_width": ""
      }
     },
     "56d9d8a378a244be99e71c248da99c3a": {
      "model_module": "@jupyter-widgets/controls",
      "model_module_version": "1.1.0",
      "model_name": "TextModel",
      "state": {
       "layout": "IPY_MODEL_ca22b8ceb5f8469389917142a14c3eb6",
       "style": "IPY_MODEL_55c9a1f412c94c98b0e97aa3f07f7cb1",
       "value": "C99999"
      }
     },
     "5acf057163bc4ef3b4bcb18c5a090c80": {
      "model_module": "@jupyter-widgets/controls",
      "model_module_version": "1.1.0",
      "model_name": "DescriptionStyleModel",
      "state": {
       "description_width": ""
      }
     },
     "5ca4b9c9abc646fba885d8162eb52775": {
      "model_module": "@jupyter-widgets/controls",
      "model_module_version": "1.1.0",
      "model_name": "ButtonStyleModel",
      "state": {}
     },
     "5cd0367bbd734e739158703496b628b1": {
      "model_module": "@jupyter-widgets/controls",
      "model_module_version": "1.1.0",
      "model_name": "TextModel",
      "state": {
       "layout": "IPY_MODEL_4fdb92615ca9424eb65be5007e419b13",
       "style": "IPY_MODEL_c37098031bfb4f5aa9a9463a8cee7786"
      }
     },
     "5f8a3969d24349f5870083fdeacca520": {
      "model_module": "@jupyter-widgets/controls",
      "model_module_version": "1.1.0",
      "model_name": "TextModel",
      "state": {
       "layout": "IPY_MODEL_ff8edfc427b64b24a02172a49f43edb1",
       "style": "IPY_MODEL_65966d2a5d7e42fc993bd12a6f424c5e",
       "value": "C00281"
      }
     },
     "5fd9764910694e2d85614ffed8ffd57b": {
      "model_module": "@jupyter-widgets/controls",
      "model_module_version": "1.1.0",
      "model_name": "TextModel",
      "state": {
       "layout": "IPY_MODEL_eae82720fc474841b9075b056c611da6",
       "style": "IPY_MODEL_bc80b3a64ce44b33879fa3b836cdad11",
       "value": "Hello World!"
      }
     },
     "61126fc4330f41f19e3d3d6116eff642": {
      "model_module": "@jupyter-widgets/controls",
      "model_module_version": "1.1.0",
      "model_name": "TextModel",
      "state": {
       "layout": "IPY_MODEL_9b9e94dab0b04324ac9522e2acccf346",
       "style": "IPY_MODEL_50f194e871474391ba8bc08c8ac6e3a8",
       "value": "C999123"
      }
     },
     "62df5ece67dd40518532789c8dcb7625": {
      "model_module": "@jupyter-widgets/base",
      "model_module_version": "1.0.0",
      "model_name": "LayoutModel",
      "state": {}
     },
     "65966d2a5d7e42fc993bd12a6f424c5e": {
      "model_module": "@jupyter-widgets/controls",
      "model_module_version": "1.1.0",
      "model_name": "DescriptionStyleModel",
      "state": {
       "description_width": ""
      }
     },
     "669693befecc4db5a13cf0935fbcdffa": {
      "model_module": "@jupyter-widgets/controls",
      "model_module_version": "1.1.0",
      "model_name": "TextModel",
      "state": {
       "layout": "IPY_MODEL_ae7176bd93874957b0540a4c310094c0",
       "style": "IPY_MODEL_5acf057163bc4ef3b4bcb18c5a090c80",
       "value": "C00001"
      }
     },
     "7074934051464360904b265366027690": {
      "model_module": "@jupyter-widgets/base",
      "model_module_version": "1.0.0",
      "model_name": "LayoutModel",
      "state": {}
     },
     "71839ee861a14b6989825323984e8631": {
      "model_module": "@jupyter-widgets/controls",
      "model_module_version": "1.1.0",
      "model_name": "DescriptionStyleModel",
      "state": {
       "description_width": ""
      }
     },
     "75927bdb5a7543d6965dad2a779776a8": {
      "model_module": "@jupyter-widgets/controls",
      "model_module_version": "1.1.0",
      "model_name": "DescriptionStyleModel",
      "state": {
       "description_width": ""
      }
     },
     "75de220b5c9546c2aad8000da3e5427e": {
      "model_module": "@jupyter-widgets/output",
      "model_module_version": "1.0.0",
      "model_name": "OutputModel",
      "state": {
       "layout": "IPY_MODEL_62df5ece67dd40518532789c8dcb7625"
      }
     },
     "75e98604ef7243f29b6bcb7e068cc7ac": {
      "model_module": "@jupyter-widgets/base",
      "model_module_version": "1.0.0",
      "model_name": "LayoutModel",
      "state": {}
     },
     "7687877b9d114daf914e53d75f5fcc3e": {
      "model_module": "@jupyter-widgets/base",
      "model_module_version": "1.0.0",
      "model_name": "LayoutModel",
      "state": {}
     },
     "76af0303aa03432691f23f74f03b82e4": {
      "model_module": "@jupyter-widgets/base",
      "model_module_version": "1.0.0",
      "model_name": "LayoutModel",
      "state": {}
     },
     "7a63babfce484e5ba760fa36de75d6f9": {
      "model_module": "@jupyter-widgets/controls",
      "model_module_version": "1.1.0",
      "model_name": "DescriptionStyleModel",
      "state": {
       "description_width": ""
      }
     },
     "82c533c6c9954a0f97e03f51939606ca": {
      "model_module": "@jupyter-widgets/output",
      "model_module_version": "1.0.0",
      "model_name": "OutputModel",
      "state": {
       "layout": "IPY_MODEL_a8e95fbdef8140f59dfbdd5d7b5df488"
      }
     },
     "8a4daa19ecbe4d7eb26ac174ea8c4560": {
      "model_module": "@jupyter-widgets/controls",
      "model_module_version": "1.1.0",
      "model_name": "DescriptionStyleModel",
      "state": {
       "description_width": ""
      }
     },
     "8d4982ac1ca844238220303937738def": {
      "model_module": "@jupyter-widgets/base",
      "model_module_version": "1.0.0",
      "model_name": "LayoutModel",
      "state": {}
     },
     "8de2ea705b304e82b78bf3b0be7d28c9": {
      "model_module": "@jupyter-widgets/controls",
      "model_module_version": "1.1.0",
      "model_name": "TextModel",
      "state": {
       "layout": "IPY_MODEL_acdaa18df5ea460c97404ac8d4ef62f4",
       "style": "IPY_MODEL_a5b2b8209b8e4625ac34b7d546930166",
       "value": "C99999"
      }
     },
     "8ec60ea6e32945b38b90564559345a78": {
      "model_module": "@jupyter-widgets/base",
      "model_module_version": "1.0.0",
      "model_name": "LayoutModel",
      "state": {}
     },
     "8f7dcadc2d05409380c21b39ebeee7bd": {
      "model_module": "@jupyter-widgets/controls",
      "model_module_version": "1.1.0",
      "model_name": "DescriptionStyleModel",
      "state": {
       "description_width": ""
      }
     },
     "9b9e94dab0b04324ac9522e2acccf346": {
      "model_module": "@jupyter-widgets/base",
      "model_module_version": "1.0.0",
      "model_name": "LayoutModel",
      "state": {}
     },
     "a00fd6e3fff64914b023bb040c05f9c2": {
      "model_module": "@jupyter-widgets/controls",
      "model_module_version": "1.1.0",
      "model_name": "TextModel",
      "state": {
       "layout": "IPY_MODEL_a9f95336552641d3a5fc4d4be8dd230a",
       "style": "IPY_MODEL_1151d0f152344fa29b07968332cdfdbe",
       "value": "C9999"
      }
     },
     "a259ce7fa59a461cad4dbf960ce113df": {
      "model_module": "@jupyter-widgets/controls",
      "model_module_version": "1.1.0",
      "model_name": "DescriptionStyleModel",
      "state": {
       "description_width": ""
      }
     },
     "a26b7ed6e3854d44bbf4564db9c8842f": {
      "model_module": "@jupyter-widgets/base",
      "model_module_version": "1.0.0",
      "model_name": "LayoutModel",
      "state": {}
     },
     "a2cfc91b0bd547819ee0cc05e480a1e7": {
      "model_module": "@jupyter-widgets/base",
      "model_module_version": "1.0.0",
      "model_name": "LayoutModel",
      "state": {}
     },
     "a3ca140d989b41d8856805a68a6cb9a7": {
      "model_module": "@jupyter-widgets/base",
      "model_module_version": "1.0.0",
      "model_name": "LayoutModel",
      "state": {}
     },
     "a4c22f37d5c74ac7ab58ead927b754a0": {
      "model_module": "@jupyter-widgets/base",
      "model_module_version": "1.0.0",
      "model_name": "LayoutModel",
      "state": {}
     },
     "a5b2b8209b8e4625ac34b7d546930166": {
      "model_module": "@jupyter-widgets/controls",
      "model_module_version": "1.1.0",
      "model_name": "DescriptionStyleModel",
      "state": {
       "description_width": ""
      }
     },
     "a5cfb5d02a244e6aa601555fdbaca484": {
      "model_module": "@jupyter-widgets/base",
      "model_module_version": "1.0.0",
      "model_name": "LayoutModel",
      "state": {}
     },
     "a8e95fbdef8140f59dfbdd5d7b5df488": {
      "model_module": "@jupyter-widgets/base",
      "model_module_version": "1.0.0",
      "model_name": "LayoutModel",
      "state": {}
     },
     "a9f95336552641d3a5fc4d4be8dd230a": {
      "model_module": "@jupyter-widgets/base",
      "model_module_version": "1.0.0",
      "model_name": "LayoutModel",
      "state": {}
     },
     "acdaa18df5ea460c97404ac8d4ef62f4": {
      "model_module": "@jupyter-widgets/base",
      "model_module_version": "1.0.0",
      "model_name": "LayoutModel",
      "state": {}
     },
     "ae7176bd93874957b0540a4c310094c0": {
      "model_module": "@jupyter-widgets/base",
      "model_module_version": "1.0.0",
      "model_name": "LayoutModel",
      "state": {}
     },
     "af0fb867e0be44049eeec30c4efdc967": {
      "model_module": "@jupyter-widgets/controls",
      "model_module_version": "1.1.0",
      "model_name": "TextModel",
      "state": {
       "layout": "IPY_MODEL_d6d525b92ede46c79fd19344976126d5",
       "style": "IPY_MODEL_8a4daa19ecbe4d7eb26ac174ea8c4560",
       "value": "C00001"
      }
     },
     "b0ca88f1aa1c424f9a00318f2d5b05d0": {
      "model_module": "@jupyter-widgets/controls",
      "model_module_version": "1.1.0",
      "model_name": "TextModel",
      "state": {
       "layout": "IPY_MODEL_a4c22f37d5c74ac7ab58ead927b754a0",
       "style": "IPY_MODEL_070fdc1a12aa4392b9c70510f13102f7",
       "value": "C99999"
      }
     },
     "b1713ad42a264d7ca7e21e7f8a814e37": {
      "model_module": "@jupyter-widgets/controls",
      "model_module_version": "1.1.0",
      "model_name": "TextModel",
      "state": {
       "layout": "IPY_MODEL_2d7c509634f1443eb090cc6d16452b16",
       "style": "IPY_MODEL_1c51a60d1e474866ba636152f5c922e9",
       "value": "C99999"
      }
     },
     "bc80b3a64ce44b33879fa3b836cdad11": {
      "model_module": "@jupyter-widgets/controls",
      "model_module_version": "1.1.0",
      "model_name": "DescriptionStyleModel",
      "state": {
       "description_width": ""
      }
     },
     "be4820183fba47759c649c581a16e318": {
      "model_module": "@jupyter-widgets/output",
      "model_module_version": "1.0.0",
      "model_name": "OutputModel",
      "state": {
       "layout": "IPY_MODEL_c92f3dcf3039478ba6eef8f1abec037b"
      }
     },
     "c161fb4706da41588822ae09d165698a": {
      "model_module": "@jupyter-widgets/base",
      "model_module_version": "1.0.0",
      "model_name": "LayoutModel",
      "state": {}
     },
     "c37098031bfb4f5aa9a9463a8cee7786": {
      "model_module": "@jupyter-widgets/controls",
      "model_module_version": "1.1.0",
      "model_name": "DescriptionStyleModel",
      "state": {
       "description_width": ""
      }
     },
     "c5e1fd917954403387116b031c0be197": {
      "model_module": "@jupyter-widgets/controls",
      "model_module_version": "1.1.0",
      "model_name": "TextModel",
      "state": {
       "layout": "IPY_MODEL_476a38534eb649b59a865a69da0d5175",
       "style": "IPY_MODEL_42637e17ff804c7892eae07d3f0a8b7f",
       "value": "C99992"
      }
     },
     "c6f8403bc2654b10bdbf940f0de3c556": {
      "model_module": "@jupyter-widgets/base",
      "model_module_version": "1.0.0",
      "model_name": "LayoutModel",
      "state": {}
     },
     "c92f3dcf3039478ba6eef8f1abec037b": {
      "model_module": "@jupyter-widgets/base",
      "model_module_version": "1.0.0",
      "model_name": "LayoutModel",
      "state": {}
     },
     "ca22b8ceb5f8469389917142a14c3eb6": {
      "model_module": "@jupyter-widgets/base",
      "model_module_version": "1.0.0",
      "model_name": "LayoutModel",
      "state": {}
     },
     "cd1a682d846147fba8f435ca5fb4e1d2": {
      "model_module": "@jupyter-widgets/controls",
      "model_module_version": "1.1.0",
      "model_name": "TextModel",
      "state": {
       "layout": "IPY_MODEL_ea8a101003724cd490b2e8c7d486ee2d",
       "style": "IPY_MODEL_05a3c793819b4015bfdfd3e5d06467fe",
       "value": "C99999"
      }
     },
     "ce49168d57514145a1b0cf8220c1078f": {
      "model_module": "@jupyter-widgets/controls",
      "model_module_version": "1.1.0",
      "model_name": "TextModel",
      "state": {
       "layout": "IPY_MODEL_3d7f6690fe834fe8a53bd27834cb10f8",
       "style": "IPY_MODEL_71839ee861a14b6989825323984e8631",
       "value": "C00225"
      }
     },
     "cf270a00a59b4d06a054565a3397ebae": {
      "model_module": "@jupyter-widgets/controls",
      "model_module_version": "1.1.0",
      "model_name": "DescriptionStyleModel",
      "state": {
       "description_width": ""
      }
     },
     "d6d525b92ede46c79fd19344976126d5": {
      "model_module": "@jupyter-widgets/base",
      "model_module_version": "1.0.0",
      "model_name": "LayoutModel",
      "state": {}
     },
     "d83e08ce27d544a9a1c05a8159b255e7": {
      "model_module": "@jupyter-widgets/controls",
      "model_module_version": "1.1.0",
      "model_name": "DescriptionStyleModel",
      "state": {
       "description_width": ""
      }
     },
     "d932eae50d484082853ee348afb6b3e6": {
      "model_module": "@jupyter-widgets/base",
      "model_module_version": "1.0.0",
      "model_name": "LayoutModel",
      "state": {}
     },
     "daa3d915275b4d77a030420c47e5317b": {
      "model_module": "@jupyter-widgets/controls",
      "model_module_version": "1.1.0",
      "model_name": "DescriptionStyleModel",
      "state": {
       "description_width": ""
      }
     },
     "db6f8fb7b7e240e3b899042dd0ddcdb6": {
      "model_module": "@jupyter-widgets/controls",
      "model_module_version": "1.1.0",
      "model_name": "TextModel",
      "state": {
       "layout": "IPY_MODEL_8d4982ac1ca844238220303937738def",
       "style": "IPY_MODEL_47095e0b8ac84ac6b762ed3e35947914",
       "value": "C00001"
      }
     },
     "dc7c08098d6846c4b93dbf46b89ad21e": {
      "model_module": "@jupyter-widgets/controls",
      "model_module_version": "1.1.0",
      "model_name": "TextModel",
      "state": {
       "layout": "IPY_MODEL_17acac4e8d0740ac89fafecda17605b4",
       "style": "IPY_MODEL_3be4d5a4405440d99689fa82ddf7fda1",
       "value": "C99999"
      }
     },
     "e12ea5a0030e47f3947c3c6063789e1c": {
      "model_module": "@jupyter-widgets/controls",
      "model_module_version": "1.1.0",
      "model_name": "TextModel",
      "state": {
       "layout": "IPY_MODEL_75e98604ef7243f29b6bcb7e068cc7ac",
       "style": "IPY_MODEL_a259ce7fa59a461cad4dbf960ce113df"
      }
     },
     "e340429c1a3b4884a65bcb0fd3f75127": {
      "model_module": "@jupyter-widgets/controls",
      "model_module_version": "1.1.0",
      "model_name": "TextModel",
      "state": {
       "layout": "IPY_MODEL_8ec60ea6e32945b38b90564559345a78",
       "style": "IPY_MODEL_e64a074a37604f3e8b6b63a235e7eca1",
       "value": "C9945"
      }
     },
     "e64a074a37604f3e8b6b63a235e7eca1": {
      "model_module": "@jupyter-widgets/controls",
      "model_module_version": "1.1.0",
      "model_name": "DescriptionStyleModel",
      "state": {
       "description_width": ""
      }
     },
     "e8c44cdd42594261904002c0f10037c5": {
      "model_module": "@jupyter-widgets/controls",
      "model_module_version": "1.1.0",
      "model_name": "DescriptionStyleModel",
      "state": {
       "description_width": ""
      }
     },
     "ea8a101003724cd490b2e8c7d486ee2d": {
      "model_module": "@jupyter-widgets/base",
      "model_module_version": "1.0.0",
      "model_name": "LayoutModel",
      "state": {}
     },
     "eae82720fc474841b9075b056c611da6": {
      "model_module": "@jupyter-widgets/base",
      "model_module_version": "1.0.0",
      "model_name": "LayoutModel",
      "state": {}
     },
     "ef45624017b24e2cba0e0fa50c9ac27f": {
      "model_module": "@jupyter-widgets/controls",
      "model_module_version": "1.1.0",
      "model_name": "ButtonModel",
      "state": {
       "description": "Recache",
       "layout": "IPY_MODEL_a3ca140d989b41d8856805a68a6cb9a7",
       "style": "IPY_MODEL_5ca4b9c9abc646fba885d8162eb52775"
      }
     },
     "f3d5703f64b94b48b0883c22ca456242": {
      "model_module": "@jupyter-widgets/base",
      "model_module_version": "1.0.0",
      "model_name": "LayoutModel",
      "state": {}
     },
     "f5807e2ff6354b7da3b458928e5ce458": {
      "model_module": "@jupyter-widgets/output",
      "model_module_version": "1.0.0",
      "model_name": "OutputModel",
      "state": {
       "layout": "IPY_MODEL_a26b7ed6e3854d44bbf4564db9c8842f"
      }
     },
     "f713ddfbcf174cb09455c9a6bdf476fe": {
      "model_module": "@jupyter-widgets/controls",
      "model_module_version": "1.1.0",
      "model_name": "TextModel",
      "state": {
       "layout": "IPY_MODEL_3ba82516849d4acfad9e4642f10f4b7b",
       "style": "IPY_MODEL_cf270a00a59b4d06a054565a3397ebae",
       "value": "C99999"
      }
     },
     "f823c758933a488398527bc86a0ef159": {
      "model_module": "@jupyter-widgets/controls",
      "model_module_version": "1.1.0",
      "model_name": "DescriptionStyleModel",
      "state": {
       "description_width": ""
      }
     },
     "fb51291353cb4a868296e51dc60f41c4": {
      "model_module": "@jupyter-widgets/controls",
      "model_module_version": "1.1.0",
      "model_name": "TextModel",
      "state": {
       "layout": "IPY_MODEL_a5cfb5d02a244e6aa601555fdbaca484",
       "style": "IPY_MODEL_2c9d2b51271c4c9da4d7ef214c3a9299",
       "value": "C9999"
      }
     },
     "ff8edfc427b64b24a02172a49f43edb1": {
      "model_module": "@jupyter-widgets/base",
      "model_module_version": "1.0.0",
      "model_name": "LayoutModel",
      "state": {}
     }
    },
    "version_major": 2,
    "version_minor": 0
   }
  }
 },
 "nbformat": 4,
 "nbformat_minor": 2
}
